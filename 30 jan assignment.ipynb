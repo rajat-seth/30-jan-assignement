{
 "cells": [
  {
   "cell_type": "code",
   "execution_count": 1,
   "id": "2b36259f-aaa7-49b8-a7f3-eb234489e66c",
   "metadata": {},
   "outputs": [
    {
     "name": "stdin",
     "output_type": "stream",
     "text": [
      "marks 55\n"
     ]
    },
    {
     "name": "stdout",
     "output_type": "stream",
     "text": [
      "D\n"
     ]
    }
   ],
   "source": [
    "marks=int(input(\"marks\"))\n",
    "if marks>90:\n",
    "        print(\"A\")\n",
    "elif marks>80 and marks<=90:\n",
    "    print(\"B\")\n",
    "elif marks>=60 and marks<=80:\n",
    "    print(\"C\")\n",
    "else:\n",
    "    print(\"D\")"
   ]
  },
  {
   "cell_type": "code",
   "execution_count": 3,
   "id": "fd27ede1-2b01-4685-81c7-80d2fe1115b1",
   "metadata": {},
   "outputs": [
    {
     "name": "stdin",
     "output_type": "stream",
     "text": [
      "costprice 98000\n"
     ]
    },
    {
     "name": "stdout",
     "output_type": "stream",
     "text": [
      "tax-10%\n"
     ]
    }
   ],
   "source": [
    "costprice=int(input(\"costprice\"))\n",
    "if costprice>100000:\n",
    "    print(\"tax-15%\")\n",
    "elif costprice>5000 and costprice<=100000:\n",
    "    print(\"tax-10%\")\n",
    "else:\n",
    "    print(\"tax-5%\")"
   ]
  },
  {
   "cell_type": "code",
   "execution_count": null,
   "id": "312846e2-a83a-4d58-a57a-db8eb097d7ee",
   "metadata": {},
   "outputs": [],
   "source": [
    "city=input(\"city\")\n",
    "if city==\"Delhi\":\n",
    "    print(\"Red fort\")\n",
    "elif city==\"Agra\":\n",
    "    print(\"Taj Mahal\")\n",
    "elif city==\"Jaipur\":\n",
    "    print(\"Jal Mahal\")"
   ]
  },
  {
   "cell_type": "code",
   "execution_count": null,
   "id": "102b40ae-2893-477a-85d8-ca270a57cca8",
   "metadata": {},
   "outputs": [],
   "source": []
  }
 ],
 "metadata": {
  "kernelspec": {
   "display_name": "Python 3 (ipykernel)",
   "language": "python",
   "name": "python3"
  },
  "language_info": {
   "codemirror_mode": {
    "name": "ipython",
    "version": 3
   },
   "file_extension": ".py",
   "mimetype": "text/x-python",
   "name": "python",
   "nbconvert_exporter": "python",
   "pygments_lexer": "ipython3",
   "version": "3.10.8"
  }
 },
 "nbformat": 4,
 "nbformat_minor": 5
}
